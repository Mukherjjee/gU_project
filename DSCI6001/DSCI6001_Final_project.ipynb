{
 "cells": [
  {
   "cell_type": "code",
   "execution_count": 43,
   "metadata": {
    "collapsed": true
   },
   "outputs": [],
   "source": [
    "reset -sf"
   ]
  },
  {
   "cell_type": "code",
   "execution_count": 44,
   "metadata": {
    "collapsed": false
   },
   "outputs": [
    {
     "name": "stdout",
     "output_type": "stream",
     "text": [
      "Populating the interactive namespace from numpy and matplotlib\n"
     ]
    }
   ],
   "source": [
    "%pylab inline\n",
    "\n",
    "import pandas as pd\n",
    "import seaborn as sns\n",
    "import numpy as np\n",
    "\n",
    "import statsmodels as sm\n",
    "import statsmodels.api as sms\n",
    "from statsmodels.formula.api import ols\n",
    "\n",
    "from sklearn.cluster import KMeans\n",
    "from sqlalchemy import create_engine"
   ]
  },
  {
   "cell_type": "markdown",
   "metadata": {},
   "source": [
    "### 1. Load data set & clean data to analyze"
   ]
  },
  {
   "cell_type": "code",
   "execution_count": 45,
   "metadata": {
    "collapsed": false
   },
   "outputs": [],
   "source": [
    "#read Dow Jones Index data set from UCI web page\n",
    "Dow_Jones_df = pd.read_csv('dow_jones_index.data')"
   ]
  },
  {
   "cell_type": "code",
   "execution_count": 46,
   "metadata": {
    "collapsed": false
   },
   "outputs": [
    {
     "data": {
      "text/plain": [
       "Index(['quarter', 'stock', 'date', 'open', 'high', 'low', 'close', 'volume',\n",
       "       'percent_change_price', 'percent_change_volume_over_last_wk',\n",
       "       'previous_weeks_volume', 'next_weeks_open', 'next_weeks_close',\n",
       "       'percent_change_next_weeks_price', 'days_to_next_dividend',\n",
       "       'percent_return_next_dividend'],\n",
       "      dtype='object')"
      ]
     },
     "execution_count": 46,
     "metadata": {},
     "output_type": "execute_result"
    }
   ],
   "source": [
    "new_col = []\n",
    "\n",
    "#make sure there is '.', space or upper letter in columns \n",
    "for i in Dow_Jones_df.columns:\n",
    "    new_col.append(i.replace(' ', '', len(i)).replace('.', '', len(i)).lower())\n",
    "Dow_Jones_df.columns = new_col\n",
    "Dow_Jones_df.columns"
   ]
  },
  {
   "cell_type": "code",
   "execution_count": 47,
   "metadata": {
    "collapsed": true
   },
   "outputs": [],
   "source": [
    "#eliminate '$' sign from columns\n",
    "Dow_Jones_df['open'] = Dow_Jones_df['open'].map(lambda x:x.lstrip('$'))\n",
    "Dow_Jones_df['high'] = Dow_Jones_df['high'].map(lambda x:x.lstrip('$'))\n",
    "Dow_Jones_df['low'] = Dow_Jones_df['low'].map(lambda x:x.lstrip('$'))\n",
    "Dow_Jones_df['close'] = Dow_Jones_df['close'].map(lambda x:x.lstrip('$'))\n",
    "Dow_Jones_df['next_weeks_open'] = Dow_Jones_df['next_weeks_open'].map(lambda x:x.lstrip('$'))\n",
    "Dow_Jones_df['next_weeks_close'] = Dow_Jones_df['next_weeks_close'].map(lambda x:x.lstrip('$'))"
   ]
  },
  {
   "cell_type": "code",
   "execution_count": 48,
   "metadata": {
    "collapsed": false
   },
   "outputs": [
    {
     "data": {
      "text/plain": [
       "(750, 16)"
      ]
     },
     "execution_count": 48,
     "metadata": {},
     "output_type": "execute_result"
    }
   ],
   "source": [
    "Dow_Jones_df.shape"
   ]
  },
  {
   "cell_type": "code",
   "execution_count": 49,
   "metadata": {
    "collapsed": false
   },
   "outputs": [],
   "source": [
    "#add columns for weekly_price mean and standard deviation\n",
    "weekly_price = Dow_Jones_df[['open', 'high', 'low', 'close']].astype(float)\n",
    "Dow_Jones_df.insert(7, 'weekly_price_mean', weekly_price.apply(lambda x: np.mean(x), axis=1))\n",
    "Dow_Jones_df.insert(8, 'weekly_price_std', weekly_price.apply(lambda x: np.sqrt(var(x)), axis=1))\n",
    "Dow_Jones_df.insert(9, 'up', Dow_Jones_df['percent_change_price'].apply(lambda x: 1 if x>0 else 0))"
   ]
  },
  {
   "cell_type": "markdown",
   "metadata": {},
   "source": []
  },
  {
   "cell_type": "markdown",
   "metadata": {},
   "source": [
    "Adding dividend profit to each company for half year (The first 2 qurater in 2011).\n",
    "<br>\n",
    "Each companies have a different amount of return and a diffrent number of times return for dividend  in the first 2 quater, so I need to add into average price of stock.\n",
    ">Dividend_profit (div_profit) = div_mean_per  X  price_mean_first_two  X  num_dividend\n",
    "<br>\n",
    "<br>\n",
    ">$Dividned~ Each~ Week = \\dfrac{Dividend~ Profit}{Number~ of~ Weeks}$"
   ]
  },
  {
   "cell_type": "code",
   "execution_count": 50,
   "metadata": {
    "collapsed": false
   },
   "outputs": [],
   "source": [
    "#mean of dividend profit for each stock\n",
    "div_mean_per = Dow_Jones_df.groupby(['stock']).percent_return_next_dividend.mean()\n",
    "\n",
    "#mean of stock price for the first two quarter\n",
    "price_mean_first_two = Dow_Jones_df.groupby(['stock']).weekly_price_mean.mean()\n",
    "\n",
    "#check number of times for expeced dividend \n",
    "num_dividend = Dow_Jones_df[Dow_Jones_df['days_to_next_dividend'] <= 5].groupby(['stock']).date.count()\n",
    "\n",
    "#profit of dividend return for the first two quarter (since the unit is cent, convert into dollar; X 1/100)\n",
    "div_profit = div_mean_per * price_mean_first_two * num_dividend * 1/100\n",
    "\n",
    "#number of weeks for the first two quarter\n",
    "num_weeks = Dow_Jones_df.groupby(['stock']).date.count()\n",
    "\n",
    "#calculate dividend return for each week\n",
    "div_profit_each_week = pd.DataFrame(div_profit/num_weeks, index=Dow_Jones_df['stock'])"
   ]
  },
  {
   "cell_type": "code",
   "execution_count": 51,
   "metadata": {
    "collapsed": true
   },
   "outputs": [],
   "source": [
    "#add new column for dividend profit\n",
    "Dow_Jones_df.insert(9, 'div_profit', div_profit_each_week.values)\n",
    "\n",
    "#DIS stock is not available for dividend, so if the column of div_profit nan, it convert to zero.\n",
    "Dow_Jones_df['div_profit'] = Dow_Jones_df['div_profit'].fillna(0)"
   ]
  },
  {
   "cell_type": "code",
   "execution_count": 52,
   "metadata": {
    "collapsed": false
   },
   "outputs": [],
   "source": [
    "#count week number from date. The total number of weeks for the first two quarter is 25.\n",
    "Dow_Jones_df['date'] = pd.to_datetime(Dow_Jones_df['date'])\n",
    "Dow_Jones_df.insert(3, 'week', Dow_Jones_df['date'].apply(lambda x: x.week))\n",
    "\n",
    "#add the column which is weekly means price + expected dividend profit for each week\n",
    "Dow_Jones_df.insert(9, 'price_mean_add_div_profit', Dow_Jones_df['weekly_price_mean']+Dow_Jones_df['div_profit'])"
   ]
  },
  {
   "cell_type": "code",
   "execution_count": 53,
   "metadata": {
    "collapsed": false,
    "scrolled": true
   },
   "outputs": [],
   "source": [
    "#clean data groupby stocks in order to classify stock\n",
    "half_year_df = Dow_Jones_df.groupby(['stock']).weekly_price_mean.std().reset_index()\n",
    "half_year_df['half_year_mean'] = Dow_Jones_df.groupby(['stock']).weekly_price_mean.mean().values\n",
    "half_year_df = half_year_df.rename(columns={'weekly_price_mean':'half_year_std'})"
   ]
  },
  {
   "cell_type": "markdown",
   "metadata": {},
   "source": [
    "### 2. Clustering"
   ]
  },
  {
   "cell_type": "markdown",
   "metadata": {},
   "source": [
    "Decoposition with SVD"
   ]
  },
  {
   "cell_type": "code",
   "execution_count": 54,
   "metadata": {
    "collapsed": false
   },
   "outputs": [
    {
     "name": "stdout",
     "output_type": "stream",
     "text": [
      "Kmean_U\n",
      " [[-0.04095693 -0.99916091]\n",
      " [-0.99916091  0.04095693]]\n",
      "\n",
      "Kmean_si\n",
      " [ 344.11957825    4.16425378]\n",
      "\n",
      "Kmean_V\n",
      " [[-0.048 -0.136 -0.213 -0.038 -0.3   -0.053 -0.294 -0.153 -0.12  -0.058\n",
      "  -0.106 -0.121 -0.473 -0.062 -0.182 -0.129 -0.19  -0.094 -0.225 -0.266\n",
      "  -0.1   -0.076 -0.058 -0.186 -0.086 -0.172 -0.244 -0.106 -0.157 -0.238]\n",
      " [-0.009 -0.105 -0.009 -0.194 -0.429 -0.283 -0.246 -0.029 -0.015 -0.012\n",
      "   0.074 -0.563  0.165 -0.039 -0.049 -0.015  0.205 -0.04   0.074  0.285\n",
      "  -0.052 -0.067 -0.032  0.227 -0.033 -0.037  0.133  0.14   0.191  0.068]\n",
      " [-0.215  0.018  0.955 -0.01  -0.068 -0.014 -0.065 -0.033 -0.025 -0.012\n",
      "  -0.021 -0.032 -0.097 -0.014 -0.039 -0.027 -0.037 -0.02  -0.046 -0.052\n",
      "  -0.022 -0.017 -0.012 -0.036 -0.018 -0.037 -0.05  -0.021 -0.031 -0.049]\n",
      " [-0.064 -0.186 -0.004  0.965 -0.079 -0.051 -0.047 -0.007 -0.004 -0.003\n",
      "   0.012 -0.101  0.023 -0.008 -0.011 -0.004  0.034 -0.008  0.01   0.047\n",
      "  -0.01  -0.013 -0.006  0.038 -0.007 -0.009  0.02   0.023  0.032  0.009]\n",
      " [-0.358 -0.384 -0.055 -0.086  0.759 -0.124 -0.168 -0.048 -0.035 -0.019\n",
      "   0.004 -0.251 -0.049 -0.031 -0.063 -0.037  0.035 -0.038 -0.025  0.048\n",
      "  -0.045 -0.045 -0.026  0.045 -0.034 -0.056 -0.006  0.03   0.037 -0.031]\n",
      " [-0.091 -0.271 -0.006 -0.05  -0.115  0.927 -0.068 -0.01  -0.006 -0.004\n",
      "   0.017 -0.146  0.035 -0.011 -0.015 -0.006  0.05  -0.012  0.016  0.069\n",
      "  -0.015 -0.018 -0.009  0.056 -0.01  -0.012  0.03   0.034  0.047  0.014]\n",
      " [-0.327 -0.204 -0.057 -0.054 -0.175 -0.078  0.868 -0.046 -0.034 -0.018\n",
      "  -0.011 -0.16  -0.085 -0.025 -0.058 -0.037 -0.002 -0.033 -0.041 -0.004\n",
      "  -0.038 -0.035 -0.022  0.004 -0.03  -0.053 -0.033  0.004  0.003 -0.046]\n",
      " [-0.157 -0.009 -0.032 -0.011 -0.057 -0.016 -0.051  0.976 -0.018 -0.009\n",
      "  -0.014 -0.034 -0.065 -0.01  -0.028 -0.02  -0.022 -0.015 -0.031 -0.031\n",
      "  -0.016 -0.013 -0.009 -0.021 -0.014 -0.027 -0.032 -0.012 -0.018 -0.033]\n",
      " [-0.122  0.    -0.025 -0.008 -0.042 -0.011 -0.038 -0.018  0.986 -0.007\n",
      "  -0.011 -0.023 -0.053 -0.008 -0.022 -0.015 -0.019 -0.012 -0.025 -0.027\n",
      "  -0.013 -0.01  -0.007 -0.018 -0.011 -0.021 -0.026 -0.01  -0.015 -0.027]\n",
      " [-0.059 -0.005 -0.012 -0.004 -0.022 -0.006 -0.019 -0.009 -0.007  0.997\n",
      "  -0.005 -0.013 -0.024 -0.004 -0.011 -0.007 -0.008 -0.006 -0.012 -0.011\n",
      "  -0.006 -0.005 -0.004 -0.008 -0.005 -0.01  -0.012 -0.004 -0.006 -0.012]\n",
      " [-0.097  0.086 -0.024  0.008 -0.006  0.012 -0.018 -0.016 -0.013 -0.006\n",
      "   0.983  0.023 -0.065 -0.005 -0.018 -0.014 -0.035 -0.008 -0.031 -0.049\n",
      "  -0.008 -0.004 -0.005 -0.036 -0.008 -0.017 -0.037 -0.021 -0.03  -0.032]\n",
      " [-0.197 -0.537 -0.015 -0.101 -0.234 -0.147 -0.14  -0.022 -0.013 -0.009\n",
      "   0.033  0.706  0.062 -0.023 -0.034 -0.014  0.096 -0.025  0.027  0.133\n",
      "  -0.031 -0.038 -0.019  0.107 -0.021 -0.027  0.056  0.067  0.09   0.023]\n",
      " [-0.452  0.222 -0.103  0.009 -0.086  0.014 -0.109 -0.071 -0.057 -0.026\n",
      "  -0.062  0.02   0.745 -0.025 -0.082 -0.061 -0.122 -0.04  -0.12  -0.17\n",
      "  -0.042 -0.028 -0.024 -0.123 -0.037 -0.079 -0.138 -0.072 -0.103 -0.126]\n",
      " [-0.068 -0.031 -0.012 -0.009 -0.033 -0.013 -0.026 -0.01  -0.007 -0.004\n",
      "  -0.003 -0.028 -0.021  0.995 -0.012 -0.008 -0.003 -0.007 -0.01  -0.005\n",
      "  -0.008 -0.007 -0.004 -0.002 -0.006 -0.011 -0.009 -0.001 -0.002 -0.011]\n",
      " [-0.189 -0.025 -0.037 -0.016 -0.073 -0.023 -0.063 -0.028 -0.022 -0.011\n",
      "  -0.015 -0.048 -0.074 -0.013  0.966 -0.023 -0.023 -0.018 -0.035 -0.033\n",
      "  -0.02  -0.016 -0.012 -0.021 -0.017 -0.032 -0.036 -0.012 -0.018 -0.038]\n",
      " [-0.132  0.002 -0.027 -0.008 -0.045 -0.011 -0.041 -0.02  -0.015 -0.007\n",
      "  -0.012 -0.024 -0.057 -0.009 -0.024  0.983 -0.021 -0.013 -0.027 -0.029\n",
      "  -0.013 -0.011 -0.008 -0.02  -0.011 -0.022 -0.029 -0.011 -0.017 -0.029]\n",
      " [-0.163  0.225 -0.044  0.027  0.014  0.04  -0.018 -0.028 -0.023 -0.01\n",
      "  -0.036  0.076 -0.131 -0.006 -0.03  -0.025  0.922 -0.013 -0.062 -0.109\n",
      "  -0.012 -0.004 -0.007 -0.081 -0.012 -0.03  -0.076 -0.048 -0.068 -0.063]\n",
      " [-0.1   -0.027 -0.019 -0.011 -0.043 -0.015 -0.035 -0.015 -0.011 -0.006\n",
      "  -0.007 -0.032 -0.035 -0.007 -0.018 -0.012 -0.009  0.99  -0.017 -0.013\n",
      "  -0.011 -0.009 -0.006 -0.008 -0.009 -0.017 -0.016 -0.004 -0.007 -0.018]\n",
      " [-0.215  0.101 -0.049  0.003 -0.042  0.006 -0.053 -0.034 -0.027 -0.013\n",
      "  -0.029  0.007 -0.12  -0.012 -0.039 -0.029 -0.057 -0.019  0.943 -0.08\n",
      "  -0.02  -0.013 -0.011 -0.057 -0.018 -0.038 -0.065 -0.033 -0.048 -0.06 ]\n",
      " [-0.229  0.313 -0.062  0.037  0.018  0.056 -0.026 -0.039 -0.032 -0.014\n",
      "  -0.051  0.106 -0.184 -0.009 -0.042 -0.035 -0.109 -0.018 -0.086  0.848\n",
      "  -0.017 -0.006 -0.009 -0.113 -0.017 -0.042 -0.107 -0.067 -0.095 -0.089]\n",
      " [-0.107 -0.039 -0.02  -0.013 -0.049 -0.019 -0.039 -0.016 -0.012 -0.006\n",
      "  -0.006 -0.039 -0.036 -0.008 -0.019 -0.013 -0.007 -0.011 -0.017 -0.011\n",
      "   0.988 -0.01  -0.007 -0.006 -0.01  -0.018 -0.016 -0.003 -0.005 -0.019]\n",
      " [-0.085 -0.056 -0.015 -0.015 -0.047 -0.021 -0.035 -0.012 -0.009 -0.005\n",
      "  -0.002 -0.043 -0.021 -0.007 -0.015 -0.01   0.    -0.009 -0.01   0.    -0.01\n",
      "   0.991 -0.006  0.002 -0.008 -0.014 -0.008  0.002  0.001 -0.012]\n",
      " [-0.062 -0.024 -0.012 -0.008 -0.029 -0.011 -0.023 -0.009 -0.007 -0.003\n",
      "  -0.003 -0.023 -0.02  -0.004 -0.011 -0.007 -0.004 -0.006 -0.01  -0.006\n",
      "  -0.007 -0.006  0.996 -0.003 -0.006 -0.01  -0.009 -0.001 -0.003 -0.011]\n",
      " [-0.156  0.246 -0.044  0.031  0.023  0.046 -0.013 -0.027 -0.022 -0.01\n",
      "  -0.038  0.088 -0.134 -0.005 -0.029 -0.025 -0.082 -0.012 -0.063 -0.114\n",
      "  -0.011 -0.003 -0.006  0.914 -0.012 -0.029 -0.079 -0.051 -0.072 -0.065]\n",
      " [-0.091 -0.022 -0.018 -0.009 -0.038 -0.013 -0.032 -0.013 -0.01  -0.005\n",
      "  -0.006 -0.028 -0.033 -0.006 -0.016 -0.011 -0.009 -0.009 -0.016 -0.013\n",
      "  -0.01  -0.008 -0.006 -0.008  0.992 -0.015 -0.016 -0.004 -0.007 -0.017]\n",
      " [-0.177 -0.014 -0.036 -0.013 -0.065 -0.019 -0.058 -0.026 -0.02  -0.01\n",
      "  -0.015 -0.041 -0.072 -0.012 -0.032 -0.022 -0.024 -0.017 -0.034 -0.034\n",
      "  -0.018 -0.015 -0.011 -0.022 -0.015  0.97  -0.035 -0.012 -0.019 -0.037]\n",
      " [-0.227  0.161 -0.054  0.013 -0.028  0.019 -0.047 -0.036 -0.029 -0.013\n",
      "  -0.036  0.034 -0.141 -0.012 -0.041 -0.032 -0.073 -0.02  -0.067 -0.102\n",
      "  -0.02  -0.012 -0.011 -0.074 -0.018 -0.04   0.922 -0.044 -0.063 -0.069]\n",
      " [-0.088  0.151 -0.025  0.019  0.017  0.029 -0.005 -0.015 -0.013 -0.006\n",
      "  -0.022  0.055 -0.079 -0.003 -0.016 -0.014 -0.049 -0.007 -0.037 -0.068\n",
      "  -0.006 -0.001 -0.003 -0.051 -0.006 -0.017 -0.047  0.97  -0.043 -0.038]\n",
      " [-0.132  0.207 -0.037  0.026  0.019  0.038 -0.011 -0.023 -0.019 -0.008\n",
      "  -0.032  0.074 -0.113 -0.005 -0.024 -0.021 -0.069 -0.01  -0.053 -0.096\n",
      "  -0.009 -0.002 -0.005 -0.072 -0.01  -0.025 -0.066 -0.043  0.94  -0.054]\n",
      " [-0.23   0.097 -0.052  0.002 -0.049  0.003 -0.058 -0.036 -0.028 -0.013\n",
      "  -0.03   0.002 -0.125 -0.013 -0.042 -0.031 -0.058 -0.021 -0.059 -0.081\n",
      "  -0.022 -0.015 -0.012 -0.058 -0.019 -0.04  -0.067 -0.034 -0.049  0.938]]\n"
     ]
    }
   ],
   "source": [
    "#SVD for standard deviation and mean price to make into risk_group and less_risk_group\n",
    "kmean_list_svd = half_year_df[['half_year_std', 'half_year_mean']]\n",
    "k_u, k_si, k_v  = np.linalg.svd(kmean_list_svd.T)\n",
    "print('Kmean_U\\n', k_u)\n",
    "print('\\nKmean_si\\n', k_si)\n",
    "print('\\nKmean_V\\n', np.round(k_v,3))"
   ]
  },
  {
   "cell_type": "code",
   "execution_count": 55,
   "metadata": {
    "collapsed": true
   },
   "outputs": [],
   "source": [
    "#using K-mean algorithm to classify two groups\n",
    "cluster_stock = KMeans(n_clusters=2, random_state=0).fit(k_v)"
   ]
  },
  {
   "cell_type": "code",
   "execution_count": 56,
   "metadata": {
    "collapsed": false,
    "scrolled": false
   },
   "outputs": [
    {
     "data": {
      "text/plain": [
       "array([0, 1, 0, 1, 1, 1, 0, 0, 0, 0, 0, 1, 0, 1, 0, 0, 0, 0, 0, 0, 0, 0, 0,\n",
       "       0, 0, 0, 0, 0, 0, 0], dtype=int32)"
      ]
     },
     "execution_count": 56,
     "metadata": {},
     "output_type": "execute_result"
    }
   ],
   "source": [
    "half_year_df['group'] = cluster_stock.labels_\n",
    "cluster_stock.labels_"
   ]
  },
  {
   "cell_type": "code",
   "execution_count": 57,
   "metadata": {
    "collapsed": false
   },
   "outputs": [
    {
     "data": {
      "image/png": "[encoded data removed]",
      "text/plain": [
       "<matplotlib.figure.Figure at 0x11aeadef0>"
      ]
     },
     "metadata": {},
     "output_type": "display_data"
    }
   ],
   "source": [
    "#plotting two groups\n",
    "'''\n",
    "Since the first sigma(eigenvalue) value is an important, \n",
    "so the first row of V(future) is the important to seperate groups.\n",
    "similar color is in the same groups.\n",
    "'''\n",
    "plt.figure(figsize=(18,15))\n",
    "\n",
    "plt.imshow(k_v, interpolation='nearest').set_cmap('spectral')\n",
    "plt.xticks(range(len(kmean_list_svd.values)))\n",
    "plt.yticks(range(len(kmean_list_svd.index.values)))\n",
    "ax = plt.gca()\n",
    "\n",
    "plt.title('V',fontsize=20)\n",
    "plt.colorbar();"
   ]
  },
  {
   "cell_type": "code",
   "execution_count": 82,
   "metadata": {
    "collapsed": false
   },
   "outputs": [
    {
     "name": "stdout",
     "output_type": "stream",
     "text": [
      "A calculated using only the first one component:\n",
      " Shape: (30, 2) \n",
      "\n"
     ]
    },
    {
     "data": {
      "text/html": [
       "<div>\n",
       "<table border=\"1\" class=\"dataframe\">\n",
       "  <thead>\n",
       "    <tr style=\"text-align: right;\">\n",
       "      <th></th>\n",
       "      <th>AA</th>\n",
       "      <th>AXP</th>\n",
       "      <th>BA</th>\n",
       "      <th>BAC</th>\n",
       "      <th>CAT</th>\n",
       "      <th>CSCO</th>\n",
       "      <th>CVX</th>\n",
       "      <th>DD</th>\n",
       "      <th>DIS</th>\n",
       "      <th>GE</th>\n",
       "    </tr>\n",
       "  </thead>\n",
       "  <tbody>\n",
       "    <tr>\n",
       "      <th>half_year_std</th>\n",
       "      <td>0.677926</td>\n",
       "      <td>1.910588</td>\n",
       "      <td>3.004312</td>\n",
       "      <td>0.538954</td>\n",
       "      <td>4.222465</td>\n",
       "      <td>0.740581</td>\n",
       "      <td>4.140418</td>\n",
       "      <td>2.160485</td>\n",
       "      <td>1.688842</td>\n",
       "      <td>0.811803</td>\n",
       "    </tr>\n",
       "    <tr>\n",
       "      <th>half_year_mean</th>\n",
       "      <td>16.538287</td>\n",
       "      <td>46.609555</td>\n",
       "      <td>73.291405</td>\n",
       "      <td>13.147994</td>\n",
       "      <td>103.008733</td>\n",
       "      <td>18.066769</td>\n",
       "      <td>101.007161</td>\n",
       "      <td>52.705898</td>\n",
       "      <td>41.199982</td>\n",
       "      <td>19.804257</td>\n",
       "    </tr>\n",
       "  </tbody>\n",
       "</table>\n",
       "</div>"
      ],
      "text/plain": [
       "                       AA        AXP         BA        BAC         CAT  \\\n",
       "half_year_std    0.677926   1.910588   3.004312   0.538954    4.222465   \n",
       "half_year_mean  16.538287  46.609555  73.291405  13.147994  103.008733   \n",
       "\n",
       "                     CSCO         CVX         DD        DIS         GE  \n",
       "half_year_std    0.740581    4.140418   2.160485   1.688842   0.811803  \n",
       "half_year_mean  18.066769  101.007161  52.705898  41.199982  19.804257  "
      ]
     },
     "execution_count": 82,
     "metadata": {},
     "output_type": "execute_result"
    }
   ],
   "source": [
    "'''\n",
    "Eigenvalue σ1 in sigma about an order of magnitude greater than σ2, \n",
    "indicating that the values in the first rows of V are much more important than the values in the second row. \n",
    "In fact I could closely reproduce A using just the first rows of V and first columns of U.\n",
    "\n",
    "The first column of U, σ1 of sigma, row of V are important future values for clustering,\n",
    "so multiply those values and compare with actual values in order to see error.\n",
    "'''\n",
    "stock_appx = np.matrix(k_u[:, :1]) * np.diag(k_si[:1]) * np.matrix(k_v[:1, :])\n",
    "svd_result = pd.DataFrame(stock_appx.T, index=half_year_df['stock'].values, columns=kmean_list_svd.columns)\n",
    "print ('A calculated using only the first one component:\\n', 'Shape:', svd_result.shape, '\\n') \n",
    "svd_result.head(10).T"
   ]
  },
  {
   "cell_type": "code",
   "execution_count": 84,
   "metadata": {
    "collapsed": false
   },
   "outputs": [
    {
     "name": "stdout",
     "output_type": "stream",
     "text": [
      "\n",
      "Error from actual value:\n",
      " Shape: (30, 2) \n",
      "\n"
     ]
    },
    {
     "data": {
      "text/html": [
       "<div>\n",
       "<table border=\"1\" class=\"dataframe\">\n",
       "  <thead>\n",
       "    <tr style=\"text-align: right;\">\n",
       "      <th>stock</th>\n",
       "      <th>AA</th>\n",
       "      <th>AXP</th>\n",
       "      <th>BA</th>\n",
       "      <th>BAC</th>\n",
       "      <th>CAT</th>\n",
       "      <th>CSCO</th>\n",
       "      <th>CVX</th>\n",
       "      <th>DD</th>\n",
       "      <th>DIS</th>\n",
       "      <th>GE</th>\n",
       "    </tr>\n",
       "  </thead>\n",
       "  <tbody>\n",
       "    <tr>\n",
       "      <th>half_year_std</th>\n",
       "      <td>0.036279</td>\n",
       "      <td>0.438026</td>\n",
       "      <td>0.036707</td>\n",
       "      <td>0.807341</td>\n",
       "      <td>1.786553</td>\n",
       "      <td>1.177539</td>\n",
       "      <td>1.023651</td>\n",
       "      <td>0.119480</td>\n",
       "      <td>0.062990</td>\n",
       "      <td>0.050177</td>\n",
       "    </tr>\n",
       "    <tr>\n",
       "      <th>half_year_mean</th>\n",
       "      <td>-0.001487</td>\n",
       "      <td>-0.017955</td>\n",
       "      <td>-0.001505</td>\n",
       "      <td>-0.033094</td>\n",
       "      <td>-0.073233</td>\n",
       "      <td>-0.048269</td>\n",
       "      <td>-0.041961</td>\n",
       "      <td>-0.004898</td>\n",
       "      <td>-0.002582</td>\n",
       "      <td>-0.002057</td>\n",
       "    </tr>\n",
       "  </tbody>\n",
       "</table>\n",
       "</div>"
      ],
      "text/plain": [
       "stock                 AA       AXP        BA       BAC       CAT      CSCO  \\\n",
       "half_year_std   0.036279  0.438026  0.036707  0.807341  1.786553  1.177539   \n",
       "half_year_mean -0.001487 -0.017955 -0.001505 -0.033094 -0.073233 -0.048269   \n",
       "\n",
       "stock                CVX        DD       DIS        GE  \n",
       "half_year_std   1.023651  0.119480  0.062990  0.050177  \n",
       "half_year_mean -0.041961 -0.004898 -0.002582 -0.002057  "
      ]
     },
     "execution_count": 84,
     "metadata": {},
     "output_type": "execute_result"
    }
   ],
   "source": [
    "#subtract actual values and expected value from multiplication = error\n",
    "'''\n",
    "Although the error of standard deviation for some stocks(mostly in more risk group) are large number of difference, \n",
    "the error for mean in all stocks is less than 1%, \n",
    "so I can say that stock_appx (first rows of orthonormal eigenvector in V and first columns of orthonormal eigenvector U)\n",
    "can reproduce A 99%.  \n",
    "'''\n",
    "error = (kmean_list_svd.set_index(half_year_df['stock']) - svd_result)\n",
    "print('\\nError from actual value:\\n', 'Shape:', error.shape, '\\n')\n",
    "error.head(10).T"
   ]
  },
  {
   "cell_type": "markdown",
   "metadata": {},
   "source": []
  },
  {
   "cell_type": "markdown",
   "metadata": {},
   "source": [
    "As calculating average and standard deviation from all 30 companies, I can see the price flowing for Dow Jones Index in the first half year in 2011."
   ]
  },
  {
   "cell_type": "code",
   "execution_count": 18,
   "metadata": {
    "collapsed": false
   },
   "outputs": [],
   "source": [
    "#To see price moving for Dow Jones market\n",
    "price = Dow_Jones_df[['week', 'weekly_price_mean']]\n",
    "price = price.groupby(['week']).weekly_price_mean.sum()"
   ]
  },
  {
   "cell_type": "code",
   "execution_count": 19,
   "metadata": {
    "collapsed": false
   },
   "outputs": [
    {
     "data": {
      "image/png": "[encoded data removed]",
      "text/plain": [
       "<matplotlib.figure.Figure at 0x1199fd710>"
      ]
     },
     "metadata": {},
     "output_type": "display_data"
    }
   ],
   "source": [
    "#make graph for price moving in Dow Jones Index\n",
    "plt.figure(figsize=(15,7))\n",
    "plt.scatter(price.index, price.values)\n",
    "plt.plot(price.index, price.values)\n",
    "plt.xlabel('Week', fontsize=18)\n",
    "plt.ylabel('Stock Price', fontsize=18)\n",
    "plt.title('Dow Jones Index Price Moving', fontsize=23)\n",
    "\n",
    "plt.grid(axis='x', color='grey', linestyle='--', lw=0.5, alpha=0.5)\n",
    "plt.grid(axis='y',color='grey', linestyle='--', lw=0.5, alpha=0.5)\n",
    "\n",
    "plt.xlim(1, 25)\n",
    "plt.tick_params(axis='both', labelsize=14)\n",
    "\n",
    "plt.axhline(price.values.mean(), color='grey',linewidth = 1)\n",
    "plt.axhline(1.8*np.std(price) + price.mean(), color='grey', linestyle='--', linewidth=1)\n",
    "plt.axhline(price.mean() - 1.8*np.std(price), color='grey', linestyle='--', linewidth=1);"
   ]
  },
  {
   "cell_type": "markdown",
   "metadata": {},
   "source": [
    "From this graph, Dow Jones Index have been moved in std x 1.8\n",
    "<br>\n",
    "Therefore, I make the eqaution to check whether K-mean work well in to petition into less risk and more risk groups."
   ]
  },
  {
   "cell_type": "markdown",
   "metadata": {},
   "source": [
    "Calculate risk variance;\n",
    ">$Risk~ Variance(\\%) = \\pm \\dfrac{1.8~ X~ Standard~ Diviation}{Stock~ Price}~ X~100$\n",
    ">>Risk Variance tells that '+' and '-' price movement from Mean Price."
   ]
  },
  {
   "cell_type": "code",
   "execution_count": 20,
   "metadata": {
    "collapsed": true
   },
   "outputs": [],
   "source": [
    "#check the K-mean algorithm\n",
    "#Dow Jones index move in range +/-1.8 * standard deviation which I can called 'Risk Varience'.\n",
    "half_year_df['risk_var'] = 1.8*half_year_df['half_year_std']*100/half_year_df['half_year_mean']"
   ]
  },
  {
   "cell_type": "markdown",
   "metadata": {},
   "source": [
    "### Group ########################################################################"
   ]
  },
  {
   "cell_type": "code",
   "execution_count": 23,
   "metadata": {
    "collapsed": true
   },
   "outputs": [],
   "source": [
    "#setup less risk group\n",
    "group_less_risk = half_year_df[half_year_df['group']==0]\n",
    "group_less_risk = group_less_risk.drop('group',axis=1)\n",
    "\n",
    "#setup more risk group\n",
    "group_more_risk = half_year_df[half_year_df['group']==1]\n",
    "group_more_risk = group_more_risk.drop('group',axis=1)"
   ]
  },
  {
   "cell_type": "code",
   "execution_count": 24,
   "metadata": {
    "collapsed": false
   },
   "outputs": [
    {
     "data": {
      "text/html": [
       "<div>\n",
       "<table border=\"1\" class=\"dataframe\">\n",
       "  <thead>\n",
       "    <tr style=\"text-align: right;\">\n",
       "      <th></th>\n",
       "      <th>stock</th>\n",
       "      <th>half_year_std</th>\n",
       "      <th>half_year_mean</th>\n",
       "      <th>risk_var</th>\n",
       "    </tr>\n",
       "  </thead>\n",
       "  <tbody>\n",
       "    <tr>\n",
       "      <th>0</th>\n",
       "      <td>AA</td>\n",
       "      <td>0.714205</td>\n",
       "      <td>16.5368</td>\n",
       "      <td>7.773989</td>\n",
       "    </tr>\n",
       "    <tr>\n",
       "      <th>2</th>\n",
       "      <td>BA</td>\n",
       "      <td>3.041019</td>\n",
       "      <td>73.2899</td>\n",
       "      <td>7.468744</td>\n",
       "    </tr>\n",
       "    <tr>\n",
       "      <th>6</th>\n",
       "      <td>CVX</td>\n",
       "      <td>5.164068</td>\n",
       "      <td>100.9652</td>\n",
       "      <td>9.206462</td>\n",
       "    </tr>\n",
       "  </tbody>\n",
       "</table>\n",
       "</div>"
      ],
      "text/plain": [
       "  stock  half_year_std  half_year_mean  risk_var\n",
       "0    AA       0.714205         16.5368  7.773989\n",
       "2    BA       3.041019         73.2899  7.468744\n",
       "6   CVX       5.164068        100.9652  9.206462"
      ]
     },
     "execution_count": 24,
     "metadata": {},
     "output_type": "execute_result"
    }
   ],
   "source": [
    "group_less_risk.head(3)"
   ]
  },
  {
   "cell_type": "code",
   "execution_count": 25,
   "metadata": {
    "collapsed": false
   },
   "outputs": [
    {
     "data": {
      "text/html": [
       "<div>\n",
       "<table border=\"1\" class=\"dataframe\">\n",
       "  <thead>\n",
       "    <tr style=\"text-align: right;\">\n",
       "      <th></th>\n",
       "      <th>stock</th>\n",
       "      <th>half_year_std</th>\n",
       "      <th>half_year_mean</th>\n",
       "      <th>risk_var</th>\n",
       "    </tr>\n",
       "  </thead>\n",
       "  <tbody>\n",
       "    <tr>\n",
       "      <th>1</th>\n",
       "      <td>AXP</td>\n",
       "      <td>2.348613</td>\n",
       "      <td>46.5916</td>\n",
       "      <td>9.073533</td>\n",
       "    </tr>\n",
       "    <tr>\n",
       "      <th>3</th>\n",
       "      <td>BAC</td>\n",
       "      <td>1.346295</td>\n",
       "      <td>13.1149</td>\n",
       "      <td>18.477688</td>\n",
       "    </tr>\n",
       "    <tr>\n",
       "      <th>4</th>\n",
       "      <td>CAT</td>\n",
       "      <td>6.009018</td>\n",
       "      <td>102.9355</td>\n",
       "      <td>10.507776</td>\n",
       "    </tr>\n",
       "  </tbody>\n",
       "</table>\n",
       "</div>"
      ],
      "text/plain": [
       "  stock  half_year_std  half_year_mean   risk_var\n",
       "1   AXP       2.348613         46.5916   9.073533\n",
       "3   BAC       1.346295         13.1149  18.477688\n",
       "4   CAT       6.009018        102.9355  10.507776"
      ]
     },
     "execution_count": 25,
     "metadata": {},
     "output_type": "execute_result"
    }
   ],
   "source": [
    "group_more_risk.head(3)"
   ]
  },
  {
   "cell_type": "code",
   "execution_count": 26,
   "metadata": {
    "collapsed": false
   },
   "outputs": [
    {
     "name": "stdout",
     "output_type": "stream",
     "text": [
      "=== Less Risk Stock ========================================================\n",
      " Less Risk Stock:\n",
      " ['AA' 'BA' 'CVX' 'DD' 'DIS' 'GE' 'HD' 'IBM' 'JNJ' 'JPM' 'KO' 'KRFT' 'MCD'\n",
      " 'MMM' 'MRK' 'MSFT' 'PFE' 'PG' 'T' 'TRV' 'UTX' 'VZ' 'WMT' 'XOM'] \n",
      "\n",
      " Average of Price Moving Range(%):\n",
      " +/- 7.09 %\n",
      "============================================================================\n",
      "\n",
      "=== More Risk Stock ========================================================\n",
      " More Risk Stock:\n",
      " ['AXP' 'BAC' 'CAT' 'CSCO' 'HPQ' 'INTC'] \n",
      "\n",
      " Average of Price Moving Range(%):\n",
      " +/- 13.92 %\n",
      "============================================================================\n"
     ]
    }
   ],
   "source": [
    "stock1 = group_less_risk['stock'].values\n",
    "stock2 = group_more_risk['stock'].values\n",
    "stock1_risk_mean = group_less_risk['risk_var'].mean()\n",
    "stock2_risk_mean = group_more_risk['risk_var'].mean()\n",
    "print('=== Less Risk Stock ========================================================')\n",
    "print(' Less Risk Stock:\\n', stock1,'\\n')\n",
    "print(' Average of Price Moving Range(%):\\n', '+/-', round(stock1_risk_mean,2), '%')\n",
    "print('============================================================================\\n')\n",
    "print('=== More Risk Stock ========================================================')\n",
    "print(' More Risk Stock:\\n', stock2, '\\n')\n",
    "print(' Average of Price Moving Range(%):\\n', '+/-', round(stock2_risk_mean,2), '%')\n",
    "print('============================================================================')"
   ]
  },
  {
   "cell_type": "markdown",
   "metadata": {},
   "source": [
    "As comparing between risk variable and the result of K-mean clustering, K-mean is work well."
   ]
  },
  {
   "cell_type": "markdown",
   "metadata": {},
   "source": [
    "### OLS Predict"
   ]
  },
  {
   "cell_type": "code",
   "execution_count": 27,
   "metadata": {
    "collapsed": false
   },
   "outputs": [],
   "source": [
    "#organize data set in order to seperate group data sets\n",
    "half_year_df['volume'] = Dow_Jones_df.groupby(['stock']).volume.mean().values\n",
    "half_year_df['price_up'] = Dow_Jones_df.groupby(['stock']).up.sum().values"
   ]
  },
  {
   "cell_type": "code",
   "execution_count": 28,
   "metadata": {
    "collapsed": false
   },
   "outputs": [
    {
     "data": {
      "text/html": [
       "<table class=\"simpletable\">\n",
       "<caption>OLS Regression Results</caption>\n",
       "<tr>\n",
       "  <th>Dep. Variable:</th>     <td>half_year_mean</td>  <th>  R-squared:         </th> <td>   0.925</td>\n",
       "</tr>\n",
       "<tr>\n",
       "  <th>Model:</th>                   <td>OLS</td>       <th>  Adj. R-squared:    </th> <td>   0.916</td>\n",
       "</tr>\n",
       "<tr>\n",
       "  <th>Method:</th>             <td>Least Squares</td>  <th>  F-statistic:       </th> <td>   106.5</td>\n",
       "</tr>\n",
       "<tr>\n",
       "  <th>Date:</th>             <td>Fri, 14 Oct 2016</td> <th>  Prob (F-statistic):</th> <td>1.01e-14</td>\n",
       "</tr>\n",
       "<tr>\n",
       "  <th>Time:</th>                 <td>20:22:23</td>     <th>  Log-Likelihood:    </th> <td> -108.26</td>\n",
       "</tr>\n",
       "<tr>\n",
       "  <th>No. Observations:</th>      <td>    30</td>      <th>  AIC:               </th> <td>   224.5</td>\n",
       "</tr>\n",
       "<tr>\n",
       "  <th>Df Residuals:</th>          <td>    26</td>      <th>  BIC:               </th> <td>   230.1</td>\n",
       "</tr>\n",
       "<tr>\n",
       "  <th>Df Model:</th>              <td>     3</td>      <th>                     </th>     <td> </td>   \n",
       "</tr>\n",
       "<tr>\n",
       "  <th>Covariance Type:</th>      <td>nonrobust</td>    <th>                     </th>     <td> </td>   \n",
       "</tr>\n",
       "</table>\n",
       "<table class=\"simpletable\">\n",
       "<tr>\n",
       "        <td></td>           <th>coef</th>     <th>std err</th>      <th>t</th>      <th>P>|t|</th>  <th>[0.025</th>    <th>0.975]</th>  \n",
       "</tr>\n",
       "<tr>\n",
       "  <th>Intercept</th>     <td>   39.5797</td> <td>    5.083</td> <td>    7.787</td> <td> 0.000</td> <td>   29.132</td> <td>   50.027</td>\n",
       "</tr>\n",
       "<tr>\n",
       "  <th>half_year_std</th> <td>   23.1665</td> <td>    1.592</td> <td>   14.554</td> <td> 0.000</td> <td>   19.895</td> <td>   26.438</td>\n",
       "</tr>\n",
       "<tr>\n",
       "  <th>risk_var</th>      <td>   -5.2430</td> <td>    0.754</td> <td>   -6.958</td> <td> 0.000</td> <td>   -6.792</td> <td>   -3.694</td>\n",
       "</tr>\n",
       "<tr>\n",
       "  <th>volume</th>        <td> 4.441e-08</td> <td>    2e-08</td> <td>    2.217</td> <td> 0.036</td> <td> 3.24e-09</td> <td> 8.56e-08</td>\n",
       "</tr>\n",
       "</table>\n",
       "<table class=\"simpletable\">\n",
       "<tr>\n",
       "  <th>Omnibus:</th>       <td> 1.373</td> <th>  Durbin-Watson:     </th> <td>   2.825</td>\n",
       "</tr>\n",
       "<tr>\n",
       "  <th>Prob(Omnibus):</th> <td> 0.503</td> <th>  Jarque-Bera (JB):  </th> <td>   0.467</td>\n",
       "</tr>\n",
       "<tr>\n",
       "  <th>Skew:</th>          <td> 0.222</td> <th>  Prob(JB):          </th> <td>   0.792</td>\n",
       "</tr>\n",
       "<tr>\n",
       "  <th>Kurtosis:</th>      <td> 3.420</td> <th>  Cond. No.          </th> <td>5.50e+08</td>\n",
       "</tr>\n",
       "</table>"
      ],
      "text/plain": [
       "<class 'statsmodels.iolib.summary.Summary'>\n",
       "\"\"\"\n",
       "                            OLS Regression Results                            \n",
       "==============================================================================\n",
       "Dep. Variable:         half_year_mean   R-squared:                       0.925\n",
       "Model:                            OLS   Adj. R-squared:                  0.916\n",
       "Method:                 Least Squares   F-statistic:                     106.5\n",
       "Date:                Fri, 14 Oct 2016   Prob (F-statistic):           1.01e-14\n",
       "Time:                        20:22:23   Log-Likelihood:                -108.26\n",
       "No. Observations:                  30   AIC:                             224.5\n",
       "Df Residuals:                      26   BIC:                             230.1\n",
       "Df Model:                           3                                         \n",
       "Covariance Type:            nonrobust                                         \n",
       "=================================================================================\n",
       "                    coef    std err          t      P>|t|      [0.025      0.975]\n",
       "---------------------------------------------------------------------------------\n",
       "Intercept        39.5797      5.083      7.787      0.000      29.132      50.027\n",
       "half_year_std    23.1665      1.592     14.554      0.000      19.895      26.438\n",
       "risk_var         -5.2430      0.754     -6.958      0.000      -6.792      -3.694\n",
       "volume         4.441e-08      2e-08      2.217      0.036    3.24e-09    8.56e-08\n",
       "==============================================================================\n",
       "Omnibus:                        1.373   Durbin-Watson:                   2.825\n",
       "Prob(Omnibus):                  0.503   Jarque-Bera (JB):                0.467\n",
       "Skew:                           0.222   Prob(JB):                        0.792\n",
       "Kurtosis:                       3.420   Cond. No.                     5.50e+08\n",
       "==============================================================================\n",
       "\n",
       "Warnings:\n",
       "[1] Standard Errors assume that the covariance matrix of the errors is correctly specified.\n",
       "[2] The condition number is large, 5.5e+08. This might indicate that there are\n",
       "strong multicollinearity or other numerical problems.\n",
       "\"\"\""
      ]
     },
     "execution_count": 28,
     "metadata": {},
     "output_type": "execute_result"
    }
   ],
   "source": [
    "#check the model fit in order to know which variables effect to price\n",
    "#The first, the column 'price_up' is not really effect to stock price.\n",
    "#The second, the column 'group' is not really effect to stock price.\n",
    "model = ols('half_year_mean~ half_year_std + risk_var + volume', data=half_year_df)\n",
    "results = model.fit()\n",
    "results.summary()"
   ]
  },
  {
   "cell_type": "markdown",
   "metadata": {},
   "source": [
    ">Since Adj. R-squared and p-value, this is a good model fit to predict stock price.\n",
    "<br> \n",
    "However, I grouped based on the half_year_std and risk_var, so I will use two variables, half_year_std and risk_var,\n",
    "in order to predict stock price."
   ]
  },
  {
   "cell_type": "code",
   "execution_count": 29,
   "metadata": {
    "collapsed": false
   },
   "outputs": [
    {
     "data": {
      "text/html": [
       "<table class=\"simpletable\">\n",
       "<caption>OLS Regression Results</caption>\n",
       "<tr>\n",
       "  <th>Dep. Variable:</th>     <td>half_year_mean</td>  <th>  R-squared:         </th> <td>   0.910</td>\n",
       "</tr>\n",
       "<tr>\n",
       "  <th>Model:</th>                   <td>OLS</td>       <th>  Adj. R-squared:    </th> <td>   0.904</td>\n",
       "</tr>\n",
       "<tr>\n",
       "  <th>Method:</th>             <td>Least Squares</td>  <th>  F-statistic:       </th> <td>   137.3</td>\n",
       "</tr>\n",
       "<tr>\n",
       "  <th>Date:</th>             <td>Fri, 14 Oct 2016</td> <th>  Prob (F-statistic):</th> <td>7.08e-15</td>\n",
       "</tr>\n",
       "<tr>\n",
       "  <th>Time:</th>                 <td>20:22:23</td>     <th>  Log-Likelihood:    </th> <td> -110.86</td>\n",
       "</tr>\n",
       "<tr>\n",
       "  <th>No. Observations:</th>      <td>    30</td>      <th>  AIC:               </th> <td>   227.7</td>\n",
       "</tr>\n",
       "<tr>\n",
       "  <th>Df Residuals:</th>          <td>    27</td>      <th>  BIC:               </th> <td>   231.9</td>\n",
       "</tr>\n",
       "<tr>\n",
       "  <th>Df Model:</th>              <td>     2</td>      <th>                     </th>     <td> </td>   \n",
       "</tr>\n",
       "<tr>\n",
       "  <th>Covariance Type:</th>      <td>nonrobust</td>    <th>                     </th>     <td> </td>   \n",
       "</tr>\n",
       "</table>\n",
       "<table class=\"simpletable\">\n",
       "<tr>\n",
       "        <td></td>           <th>coef</th>     <th>std err</th>      <th>t</th>      <th>P>|t|</th>  <th>[0.025</th>    <th>0.975]</th>  \n",
       "</tr>\n",
       "<tr>\n",
       "  <th>const</th>         <td>   38.8714</td> <td>    5.428</td> <td>    7.161</td> <td> 0.000</td> <td>   27.734</td> <td>   50.009</td>\n",
       "</tr>\n",
       "<tr>\n",
       "  <th>half_year_std</th> <td>   21.0415</td> <td>    1.360</td> <td>   15.472</td> <td> 0.000</td> <td>   18.251</td> <td>   23.832</td>\n",
       "</tr>\n",
       "<tr>\n",
       "  <th>risk_var</th>      <td>   -3.9647</td> <td>    0.519</td> <td>   -7.636</td> <td> 0.000</td> <td>   -5.030</td> <td>   -2.899</td>\n",
       "</tr>\n",
       "</table>\n",
       "<table class=\"simpletable\">\n",
       "<tr>\n",
       "  <th>Omnibus:</th>       <td> 3.815</td> <th>  Durbin-Watson:     </th> <td>   2.852</td>\n",
       "</tr>\n",
       "<tr>\n",
       "  <th>Prob(Omnibus):</th> <td> 0.148</td> <th>  Jarque-Bera (JB):  </th> <td>   2.562</td>\n",
       "</tr>\n",
       "<tr>\n",
       "  <th>Skew:</th>          <td> 0.697</td> <th>  Prob(JB):          </th> <td>   0.278</td>\n",
       "</tr>\n",
       "<tr>\n",
       "  <th>Kurtosis:</th>      <td> 3.328</td> <th>  Cond. No.          </th> <td>    27.8</td>\n",
       "</tr>\n",
       "</table>"
      ],
      "text/plain": [
       "<class 'statsmodels.iolib.summary.Summary'>\n",
       "\"\"\"\n",
       "                            OLS Regression Results                            \n",
       "==============================================================================\n",
       "Dep. Variable:         half_year_mean   R-squared:                       0.910\n",
       "Model:                            OLS   Adj. R-squared:                  0.904\n",
       "Method:                 Least Squares   F-statistic:                     137.3\n",
       "Date:                Fri, 14 Oct 2016   Prob (F-statistic):           7.08e-15\n",
       "Time:                        20:22:23   Log-Likelihood:                -110.86\n",
       "No. Observations:                  30   AIC:                             227.7\n",
       "Df Residuals:                      27   BIC:                             231.9\n",
       "Df Model:                           2                                         \n",
       "Covariance Type:            nonrobust                                         \n",
       "=================================================================================\n",
       "                    coef    std err          t      P>|t|      [0.025      0.975]\n",
       "---------------------------------------------------------------------------------\n",
       "const            38.8714      5.428      7.161      0.000      27.734      50.009\n",
       "half_year_std    21.0415      1.360     15.472      0.000      18.251      23.832\n",
       "risk_var         -3.9647      0.519     -7.636      0.000      -5.030      -2.899\n",
       "==============================================================================\n",
       "Omnibus:                        3.815   Durbin-Watson:                   2.852\n",
       "Prob(Omnibus):                  0.148   Jarque-Bera (JB):                2.562\n",
       "Skew:                           0.697   Prob(JB):                        0.278\n",
       "Kurtosis:                       3.328   Cond. No.                         27.8\n",
       "==============================================================================\n",
       "\n",
       "Warnings:\n",
       "[1] Standard Errors assume that the covariance matrix of the errors is correctly specified.\n",
       "\"\"\""
      ]
     },
     "execution_count": 29,
     "metadata": {},
     "output_type": "execute_result"
    }
   ],
   "source": [
    "X = half_year_df[['half_year_std', 'risk_var']]\n",
    "X = sms.add_constant(X)\n",
    "y = half_year_df['half_year_mean']\n",
    "\n",
    "model_p = sms.OLS(y, X)\n",
    "results_p = model_p.fit()\n",
    "results_p.summary()"
   ]
  },
  {
   "cell_type": "code",
   "execution_count": 30,
   "metadata": {
    "collapsed": false
   },
   "outputs": [
    {
     "data": {
      "image/png": "[encoded data removed]",
      "text/plain": [
       "<matplotlib.figure.Figure at 0x1199ee898>"
      ]
     },
     "metadata": {},
     "output_type": "display_data"
    }
   ],
   "source": [
    "from statsmodels.graphics.gofplots import qqplot\n",
    "# There are various ways of standardizing the residuals \n",
    "# Using the pearson residuals as the standardized residuals\n",
    "#draw qqplot to test residual normality \n",
    "sres1 = results_p.resid_pearson\n",
    "qqplot(sres1)\n",
    "q = linspace(-3, 3)\n",
    "plot(q, q, color='r');"
   ]
  },
  {
   "cell_type": "markdown",
   "metadata": {},
   "source": [
    ">Based on the graphs, the residuals appear normality assumption is not met. Hence, model fails normality assumption."
   ]
  },
  {
   "cell_type": "code",
   "execution_count": 31,
   "metadata": {
    "collapsed": false
   },
   "outputs": [
    {
     "data": {
      "text/html": [
       "<table class=\"simpletable\">\n",
       "<caption>OLS Regression Results</caption>\n",
       "<tr>\n",
       "  <th>Dep. Variable:</th>     <td>half_year_mean</td>  <th>  R-squared:         </th> <td>   0.895</td>\n",
       "</tr>\n",
       "<tr>\n",
       "  <th>Model:</th>                   <td>OLS</td>       <th>  Adj. R-squared:    </th> <td>   0.887</td>\n",
       "</tr>\n",
       "<tr>\n",
       "  <th>Method:</th>             <td>Least Squares</td>  <th>  F-statistic:       </th> <td>   114.5</td>\n",
       "</tr>\n",
       "<tr>\n",
       "  <th>Date:</th>             <td>Fri, 14 Oct 2016</td> <th>  Prob (F-statistic):</th> <td>6.47e-14</td>\n",
       "</tr>\n",
       "<tr>\n",
       "  <th>Time:</th>                 <td>20:22:24</td>     <th>  Log-Likelihood:    </th> <td>  5.8387</td>\n",
       "</tr>\n",
       "<tr>\n",
       "  <th>No. Observations:</th>      <td>    30</td>      <th>  AIC:               </th> <td>  -5.677</td>\n",
       "</tr>\n",
       "<tr>\n",
       "  <th>Df Residuals:</th>          <td>    27</td>      <th>  BIC:               </th> <td>  -1.474</td>\n",
       "</tr>\n",
       "<tr>\n",
       "  <th>Df Model:</th>              <td>     2</td>      <th>                     </th>     <td> </td>   \n",
       "</tr>\n",
       "<tr>\n",
       "  <th>Covariance Type:</th>      <td>nonrobust</td>    <th>                     </th>     <td> </td>   \n",
       "</tr>\n",
       "</table>\n",
       "<table class=\"simpletable\">\n",
       "<tr>\n",
       "        <td></td>           <th>coef</th>     <th>std err</th>      <th>t</th>      <th>P>|t|</th>  <th>[0.025</th>    <th>0.975]</th>  \n",
       "</tr>\n",
       "<tr>\n",
       "  <th>const</th>         <td>    3.7533</td> <td>    0.111</td> <td>   33.814</td> <td> 0.000</td> <td>    3.526</td> <td>    3.981</td>\n",
       "</tr>\n",
       "<tr>\n",
       "  <th>half_year_std</th> <td>    0.3671</td> <td>    0.028</td> <td>   13.200</td> <td> 0.000</td> <td>    0.310</td> <td>    0.424</td>\n",
       "</tr>\n",
       "<tr>\n",
       "  <th>risk_var</th>      <td>   -0.0938</td> <td>    0.011</td> <td>   -8.837</td> <td> 0.000</td> <td>   -0.116</td> <td>   -0.072</td>\n",
       "</tr>\n",
       "</table>\n",
       "<table class=\"simpletable\">\n",
       "<tr>\n",
       "  <th>Omnibus:</th>       <td> 3.047</td> <th>  Durbin-Watson:     </th> <td>   2.072</td>\n",
       "</tr>\n",
       "<tr>\n",
       "  <th>Prob(Omnibus):</th> <td> 0.218</td> <th>  Jarque-Bera (JB):  </th> <td>   2.720</td>\n",
       "</tr>\n",
       "<tr>\n",
       "  <th>Skew:</th>          <td>-0.699</td> <th>  Prob(JB):          </th> <td>   0.257</td>\n",
       "</tr>\n",
       "<tr>\n",
       "  <th>Kurtosis:</th>      <td> 2.526</td> <th>  Cond. No.          </th> <td>    27.8</td>\n",
       "</tr>\n",
       "</table>"
      ],
      "text/plain": [
       "<class 'statsmodels.iolib.summary.Summary'>\n",
       "\"\"\"\n",
       "                            OLS Regression Results                            \n",
       "==============================================================================\n",
       "Dep. Variable:         half_year_mean   R-squared:                       0.895\n",
       "Model:                            OLS   Adj. R-squared:                  0.887\n",
       "Method:                 Least Squares   F-statistic:                     114.5\n",
       "Date:                Fri, 14 Oct 2016   Prob (F-statistic):           6.47e-14\n",
       "Time:                        20:22:24   Log-Likelihood:                 5.8387\n",
       "No. Observations:                  30   AIC:                            -5.677\n",
       "Df Residuals:                      27   BIC:                            -1.474\n",
       "Df Model:                           2                                         \n",
       "Covariance Type:            nonrobust                                         \n",
       "=================================================================================\n",
       "                    coef    std err          t      P>|t|      [0.025      0.975]\n",
       "---------------------------------------------------------------------------------\n",
       "const             3.7533      0.111     33.814      0.000       3.526       3.981\n",
       "half_year_std     0.3671      0.028     13.200      0.000       0.310       0.424\n",
       "risk_var         -0.0938      0.011     -8.837      0.000      -0.116      -0.072\n",
       "==============================================================================\n",
       "Omnibus:                        3.047   Durbin-Watson:                   2.072\n",
       "Prob(Omnibus):                  0.218   Jarque-Bera (JB):                2.720\n",
       "Skew:                          -0.699   Prob(JB):                        0.257\n",
       "Kurtosis:                       2.526   Cond. No.                         27.8\n",
       "==============================================================================\n",
       "\n",
       "Warnings:\n",
       "[1] Standard Errors assume that the covariance matrix of the errors is correctly specified.\n",
       "\"\"\""
      ]
     },
     "execution_count": 31,
     "metadata": {},
     "output_type": "execute_result"
    }
   ],
   "source": [
    "#In order to improve normality, use log(y) instead of y\n",
    "log_y = np.log(y)\n",
    "model_log = sms.OLS(log_y, X)\n",
    "results_log = model_log.fit()\n",
    "results_log.summary()"
   ]
  },
  {
   "cell_type": "code",
   "execution_count": 32,
   "metadata": {
    "collapsed": false
   },
   "outputs": [
    {
     "data": {
      "image/png": "[encoded data removed]",
      "text/plain": [
       "<matplotlib.figure.Figure at 0x116547eb8>"
      ]
     },
     "metadata": {},
     "output_type": "display_data"
    }
   ],
   "source": [
    "#plotting qqplot, normality is improve\n",
    "sres2 = results_log.resid_pearson\n",
    "qqplot(sres2)\n",
    "q = linspace(-3, 3)\n",
    "plot(q, q, color='r');"
   ]
  },
  {
   "cell_type": "code",
   "execution_count": 33,
   "metadata": {
    "collapsed": false
   },
   "outputs": [
    {
     "name": "stdout",
     "output_type": "stream",
     "text": [
      "=== Less Risk Stock ============================================\n",
      " Stock Std Mean: 2.1741172118192837\n",
      " Price Moving Range(%): 7.090034408117393\n",
      "\n",
      "=== More Risk Stock ============================================\n",
      " Stock Std Mean: 2.786547629045008\n",
      " Price Moving Range(%): 13.91662840077642\n"
     ]
    }
   ],
   "source": [
    "stock1_std_mean = group_less_risk['half_year_std'].mean()\n",
    "stock2_std_mean = group_more_risk['half_year_std'].mean()\n",
    "print('=== Less Risk Stock ============================================')\n",
    "print(' Stock Std Mean:', stock1_std_mean)\n",
    "print(' Price Moving Range(%):', stock1_risk_mean)\n",
    "print('\\n=== More Risk Stock ============================================')\n",
    "print(' Stock Std Mean:', stock2_std_mean)\n",
    "print(' Price Moving Range(%):', stock2_risk_mean)"
   ]
  },
  {
   "cell_type": "code",
   "execution_count": 34,
   "metadata": {
    "collapsed": false
   },
   "outputs": [],
   "source": [
    "#In order to predict, using result_log which values is improved model for normality\n",
    "#add constant columns to use log regression\n",
    "group_less_risk_prid = group_less_risk.drop(['stock', 'half_year_mean'], axis=1)\n",
    "group_less_risk_prid = sms.add_constant(group_less_risk_prid)\n",
    "group_more_risk_prid = group_more_risk.drop(['stock', 'half_year_mean'], axis=1)\n",
    "group_more_risk_prid = sms.add_constant(group_more_risk_prid)"
   ]
  },
  {
   "cell_type": "code",
   "execution_count": 35,
   "metadata": {
    "collapsed": false
   },
   "outputs": [],
   "source": [
    "#predict the price for two different group in each stock\n",
    "#Since y values (predicted stock price) is log value, it need to convert to price values from log values with exp()\n",
    "less_predict = results_log.predict(group_less_risk_prid)\n",
    "more_predict = results_log.predict(group_more_risk_prid)\n",
    "less_predict = np.round(exp(less_predict), 2)\n",
    "more_predict = np.round(exp(more_predict), 2)"
   ]
  },
  {
   "cell_type": "code",
   "execution_count": 36,
   "metadata": {
    "collapsed": false,
    "scrolled": true
   },
   "outputs": [
    {
     "name": "stdout",
     "output_type": "stream",
     "text": [
      "Average Percentage Change(%): 1.69\n"
     ]
    },
    {
     "data": {
      "text/html": [
       "<div>\n",
       "<table border=\"1\" class=\"dataframe\">\n",
       "  <thead>\n",
       "    <tr style=\"text-align: right;\">\n",
       "      <th></th>\n",
       "      <th>AA</th>\n",
       "      <th>BA</th>\n",
       "      <th>CVX</th>\n",
       "      <th>DD</th>\n",
       "      <th>DIS</th>\n",
       "      <th>GE</th>\n",
       "      <th>HD</th>\n",
       "      <th>IBM</th>\n",
       "      <th>JNJ</th>\n",
       "      <th>JPM</th>\n",
       "      <th>KO</th>\n",
       "      <th>KRFT</th>\n",
       "      <th>MCD</th>\n",
       "      <th>MMM</th>\n",
       "      <th>MRK</th>\n",
       "      <th>MSFT</th>\n",
       "      <th>PFE</th>\n",
       "      <th>PG</th>\n",
       "    </tr>\n",
       "  </thead>\n",
       "  <tbody>\n",
       "    <tr>\n",
       "      <th>Current Price</th>\n",
       "      <td>16.54</td>\n",
       "      <td>73.29</td>\n",
       "      <td>100.97</td>\n",
       "      <td>52.70</td>\n",
       "      <td>41.20</td>\n",
       "      <td>19.80</td>\n",
       "      <td>36.57</td>\n",
       "      <td>162.63</td>\n",
       "      <td>62.57</td>\n",
       "      <td>44.51</td>\n",
       "      <td>65.33</td>\n",
       "      <td>32.36</td>\n",
       "      <td>77.23</td>\n",
       "      <td>91.63</td>\n",
       "      <td>34.39</td>\n",
       "      <td>26.07</td>\n",
       "      <td>19.78</td>\n",
       "      <td>63.91</td>\n",
       "    </tr>\n",
       "    <tr>\n",
       "      <th>Predict Price</th>\n",
       "      <td>26.74</td>\n",
       "      <td>64.64</td>\n",
       "      <td>119.73</td>\n",
       "      <td>47.45</td>\n",
       "      <td>39.58</td>\n",
       "      <td>28.07</td>\n",
       "      <td>38.12</td>\n",
       "      <td>205.77</td>\n",
       "      <td>55.83</td>\n",
       "      <td>41.68</td>\n",
       "      <td>52.00</td>\n",
       "      <td>33.86</td>\n",
       "      <td>65.17</td>\n",
       "      <td>68.23</td>\n",
       "      <td>34.87</td>\n",
       "      <td>29.21</td>\n",
       "      <td>26.96</td>\n",
       "      <td>50.66</td>\n",
       "    </tr>\n",
       "    <tr>\n",
       "      <th>Percent Change(%)</th>\n",
       "      <td>61.67</td>\n",
       "      <td>-11.80</td>\n",
       "      <td>18.58</td>\n",
       "      <td>-9.96</td>\n",
       "      <td>-3.93</td>\n",
       "      <td>41.77</td>\n",
       "      <td>4.24</td>\n",
       "      <td>26.53</td>\n",
       "      <td>-10.77</td>\n",
       "      <td>-6.36</td>\n",
       "      <td>-20.40</td>\n",
       "      <td>4.64</td>\n",
       "      <td>-15.62</td>\n",
       "      <td>-25.54</td>\n",
       "      <td>1.40</td>\n",
       "      <td>12.04</td>\n",
       "      <td>36.30</td>\n",
       "      <td>-20.73</td>\n",
       "    </tr>\n",
       "  </tbody>\n",
       "</table>\n",
       "</div>"
      ],
      "text/plain": [
       "                      AA     BA     CVX     DD    DIS     GE     HD     IBM  \\\n",
       "Current Price      16.54  73.29  100.97  52.70  41.20  19.80  36.57  162.63   \n",
       "Predict Price      26.74  64.64  119.73  47.45  39.58  28.07  38.12  205.77   \n",
       "Percent Change(%)  61.67 -11.80   18.58  -9.96  -3.93  41.77   4.24   26.53   \n",
       "\n",
       "                     JNJ    JPM     KO   KRFT    MCD    MMM    MRK   MSFT  \\\n",
       "Current Price      62.57  44.51  65.33  32.36  77.23  91.63  34.39  26.07   \n",
       "Predict Price      55.83  41.68  52.00  33.86  65.17  68.23  34.87  29.21   \n",
       "Percent Change(%) -10.77  -6.36 -20.40   4.64 -15.62 -25.54   1.40  12.04   \n",
       "\n",
       "                     PFE     PG  \n",
       "Current Price      19.78  63.91  \n",
       "Predict Price      26.96  50.66  \n",
       "Percent Change(%)  36.30 -20.73  "
      ]
     },
     "execution_count": 36,
     "metadata": {},
     "output_type": "execute_result"
    }
   ],
   "source": [
    "#Less risk group's price\n",
    "predict_one = pd.DataFrame(index=group_less_risk['stock'].values)\n",
    "cur_price_one = np.round(group_less_risk['half_year_mean'].values, 2)\n",
    "predict_one['Current Price'] = cur_price_one\n",
    "predict_one['Predict Price'] = less_predict.values\n",
    "per_change_one = np.round((less_predict - cur_price_one)*100 / cur_price_one, 2)\n",
    "predict_one['Percent Change(%)'] = per_change_one.values\n",
    "print('Average Percentage Change(%):', np.round(per_change_one.mean(), 2))\n",
    "predict_one.head(18).T"
   ]
  },
  {
   "cell_type": "code",
   "execution_count": 37,
   "metadata": {
    "collapsed": false,
    "scrolled": true
   },
   "outputs": [
    {
     "name": "stdout",
     "output_type": "stream",
     "text": [
      "Average Percentage Change(%): 3.72\n"
     ]
    },
    {
     "data": {
      "text/html": [
       "<div>\n",
       "<table border=\"1\" class=\"dataframe\">\n",
       "  <thead>\n",
       "    <tr style=\"text-align: right;\">\n",
       "      <th></th>\n",
       "      <th>AXP</th>\n",
       "      <th>BAC</th>\n",
       "      <th>CAT</th>\n",
       "      <th>CSCO</th>\n",
       "      <th>HPQ</th>\n",
       "      <th>INTC</th>\n",
       "    </tr>\n",
       "  </thead>\n",
       "  <tbody>\n",
       "    <tr>\n",
       "      <th>Current Price</th>\n",
       "      <td>46.59</td>\n",
       "      <td>13.11</td>\n",
       "      <td>102.94</td>\n",
       "      <td>18.02</td>\n",
       "      <td>41.63</td>\n",
       "      <td>21.47</td>\n",
       "    </tr>\n",
       "    <tr>\n",
       "      <th>Predict Price</th>\n",
       "      <td>43.13</td>\n",
       "      <td>12.35</td>\n",
       "      <td>144.50</td>\n",
       "      <td>14.29</td>\n",
       "      <td>36.48</td>\n",
       "      <td>27.53</td>\n",
       "    </tr>\n",
       "    <tr>\n",
       "      <th>Percent Change(%)</th>\n",
       "      <td>-7.43</td>\n",
       "      <td>-5.80</td>\n",
       "      <td>40.37</td>\n",
       "      <td>-20.70</td>\n",
       "      <td>-12.37</td>\n",
       "      <td>28.23</td>\n",
       "    </tr>\n",
       "  </tbody>\n",
       "</table>\n",
       "</div>"
      ],
      "text/plain": [
       "                     AXP    BAC     CAT   CSCO    HPQ   INTC\n",
       "Current Price      46.59  13.11  102.94  18.02  41.63  21.47\n",
       "Predict Price      43.13  12.35  144.50  14.29  36.48  27.53\n",
       "Percent Change(%)  -7.43  -5.80   40.37 -20.70 -12.37  28.23"
      ]
     },
     "execution_count": 37,
     "metadata": {},
     "output_type": "execute_result"
    }
   ],
   "source": [
    "#More risk group's price\n",
    "predict_two = pd.DataFrame(index=group_more_risk['stock'].values)\n",
    "cur_price_two = np.round(group_more_risk['half_year_mean'].values, 2)\n",
    "predict_two['Current Price'] = cur_price_two\n",
    "predict_two['Predict Price'] = more_predict.values\n",
    "per_change_two = np.round((more_predict - cur_price_two)*100 / cur_price_two, 2)\n",
    "predict_two['Percent Change(%)'] = per_change_two.values\n",
    "print('Average Percentage Change(%):', np.round(per_change_two.mean(), 2))\n",
    "predict_two.T"
   ]
  }
 ],
 "metadata": {
  "anaconda-cloud": {},
  "kernelspec": {
   "display_name": "Python [Root]",
   "language": "python",
   "name": "Python [Root]"
  },
  "language_info": {
   "codemirror_mode": {
    "name": "ipython",
    "version": 3
   },
   "file_extension": ".py",
   "mimetype": "text/x-python",
   "name": "python",
   "nbconvert_exporter": "python",
   "pygments_lexer": "ipython3",
   "version": "3.5.2"
  }
 },
 "nbformat": 4,
 "nbformat_minor": 0
}
